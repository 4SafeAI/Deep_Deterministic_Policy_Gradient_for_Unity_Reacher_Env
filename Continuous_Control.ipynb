{
 "cells": [
  {
   "cell_type": "markdown",
   "metadata": {},
   "source": [
    "# Continuous Control\n",
    "\n",
    "---\n",
    "\n",
    "In this notebook, you will learn how to use the Unity ML-Agents environment for the second project of the [Deep Reinforcement Learning Nanodegree](https://www.udacity.com/course/deep-reinforcement-learning-nanodegree--nd893) program.\n",
    "\n",
    "### 1. Start the Environment\n",
    "\n",
    "We begin by importing the necessary packages.  If the code cell below returns an error, please revisit the project instructions to double-check that you have installed [Unity ML-Agents](https://github.com/Unity-Technologies/ml-agents/blob/master/docs/Installation.md) and [NumPy](http://www.numpy.org/)."
   ]
  },
  {
   "cell_type": "code",
   "execution_count": null,
   "metadata": {},
   "outputs": [],
   "source": [
    "from unityagents import UnityEnvironment"
   ]
  },
  {
   "cell_type": "markdown",
   "metadata": {},
   "source": [
    "Next, we will start the environment!  **_Before running the code cell below_**, change the `file_name` parameter to match the location of the Unity environment that you downloaded.\n",
    "\n",
    "- **Mac**: `\"path/to/Reacher.app\"`\n",
    "- **Windows** (x86): `\"path/to/Reacher_Windows_x86/Reacher.exe\"`\n",
    "- **Windows** (x86_64): `\"path/to/Reacher_Windows_x86_64/Reacher.exe\"`\n",
    "- **Linux** (x86): `\"path/to/Reacher_Linux/Reacher.x86\"`\n",
    "- **Linux** (x86_64): `\"path/to/Reacher_Linux/Reacher.x86_64\"`\n",
    "- **Linux** (x86, headless): `\"path/to/Reacher_Linux_NoVis/Reacher.x86\"`\n",
    "- **Linux** (x86_64, headless): `\"path/to/Reacher_Linux_NoVis/Reacher.x86_64\"`\n",
    "\n",
    "For instance, if you are using a Mac, then you downloaded `Reacher.app`.  If this file is in the same folder as the notebook, then the line below should appear as follows:\n",
    "```\n",
    "env = UnityEnvironment(file_name=\"Reacher.app\")\n",
    "```"
   ]
  },
  {
   "cell_type": "markdown",
   "metadata": {},
   "source": [
    "**Note: The following line of code has to be adapted to follow your folder structure.**"
   ]
  },
  {
   "cell_type": "code",
   "execution_count": null,
   "metadata": {},
   "outputs": [],
   "source": [
    "env = UnityEnvironment(file_name='resources/environments/Reacher_Windows_x86_64_twenty/Reacher.exe')"
   ]
  },
  {
   "cell_type": "markdown",
   "metadata": {},
   "source": [
    "Environments contain **_brains_** which are responsible for deciding the actions of their associated agents. Here we check for the first brain available, and set it as the default brain we will be controlling from Python."
   ]
  },
  {
   "cell_type": "code",
   "execution_count": null,
   "metadata": {},
   "outputs": [],
   "source": [
    "# get the default brain\n",
    "brain_name = env.brain_names[0]\n",
    "brain = env.brains[brain_name]"
   ]
  },
  {
   "cell_type": "markdown",
   "metadata": {},
   "source": [
    "### 2. Examine the State and Action Spaces\n",
    "\n",
    "In this environment, a double-jointed arm can move to target locations. A reward of `+0.1` is provided for each step that the agent's hand is in the goal location. Thus, the goal of your agent is to maintain its position at the target location for as many time steps as possible.\n",
    "\n",
    "The observation space consists of `33` variables corresponding to position, rotation, velocity, and angular velocities of the arm.  Each action is a vector with four numbers, corresponding to torque applicable to two joints.  Every entry in the action vector must be a number between `-1` and `1`.\n",
    "\n",
    "Run the code cell below to print some information about the environment."
   ]
  },
  {
   "cell_type": "code",
   "execution_count": null,
   "metadata": {},
   "outputs": [],
   "source": [
    "# reset the environment\n",
    "env_info = env.reset(train_mode=True)[brain_name]\n",
    "\n",
    "# number of agents\n",
    "num_agents = len(env_info.agents)\n",
    "print('Number of agents:', num_agents)\n",
    "\n",
    "# size of each action\n",
    "action_size = brain.vector_action_space_size\n",
    "print('Size of each action:', action_size)\n",
    "\n",
    "# examine the state space \n",
    "states = env_info.vector_observations\n",
    "state_size = states.shape[1]\n",
    "print('There are {} agents. Each observes a state with length: {}'.format(states.shape[0], state_size))\n",
    "print('The state for the first agent looks like:', states[0])"
   ]
  },
  {
   "cell_type": "markdown",
   "metadata": {},
   "source": [
    "### 3. Take Random Actions in the Environment\n",
    "\n",
    "In the next code cell, you will learn how to use the Python API to control the agent and receive feedback from the environment.\n",
    "\n",
    "Once this cell is executed, you will watch the agent's performance, if it selects an action at random with each time step.  A window should pop up that allows you to observe the agent, as it moves through the environment.  \n",
    "\n",
    "Of course, as part of the project, you'll have to change the code so that the agent is able to use its experience to gradually choose better actions when interacting with the environment!"
   ]
  },
  {
   "cell_type": "code",
   "execution_count": null,
   "metadata": {},
   "outputs": [],
   "source": [
    "import numpy as np\n",
    "\n",
    "env_info = env.reset(train_mode=False)[brain_name]     # reset the environment    \n",
    "states = env_info.vector_observations                  # get the current state (for each agent)\n",
    "scores = np.zeros(num_agents)                          # initialize the score (for each agent)\n",
    "while True:\n",
    "    actions = np.random.randn(num_agents, action_size) # select an action (for each agent)\n",
    "    actions = np.clip(actions, -1, 1)                  # all actions between -1 and 1\n",
    "    env_info = env.step(actions)[brain_name]           # send all actions to the environment\n",
    "    next_states = env_info.vector_observations         # get next state (for each agent)\n",
    "    rewards = env_info.rewards                         # get reward (for each agent)\n",
    "    dones = env_info.local_done                        # see if episode finished\n",
    "    scores += env_info.rewards                         # update the score (for each agent)\n",
    "    states = next_states                               # roll over states to next time step\n",
    "    if np.any(dones):                                  # exit loop if episode finished\n",
    "        break\n",
    "print('Total score (averaged over agents) this episode: {}'.format(np.mean(scores)))"
   ]
  },
  {
   "cell_type": "markdown",
   "metadata": {},
   "source": [
    "When finished, you can close the environment."
   ]
  },
  {
   "cell_type": "markdown",
   "metadata": {},
   "source": [
    "### 4. Let's train an agent learning from 20 independent environments (in parallel)"
   ]
  },
  {
   "cell_type": "markdown",
   "metadata": {},
   "source": [
    "Now it's your turn to train your own agent to solve the environment!  When training the environment, set `train_mode=True`, so that the line for resetting the environment looks like the following:\n",
    "```python\n",
    "env_info = env.reset(train_mode=True)[brain_name]\n",
    "```"
   ]
  },
  {
   "cell_type": "code",
   "execution_count": null,
   "metadata": {},
   "outputs": [],
   "source": [
    "import torch\n",
    "\n",
    "from src.model import Actor\n",
    "from src.model import Critic\n",
    "from src.ddpg_agent import OUNoise\n",
    "from src.replay_buffer import ReplayBuffer\n",
    "\n",
    "\n",
    "BUFFER_SIZE = int(1e5)  # replay buffer size\n",
    "BATCH_SIZE = 64        # minibatch size\n",
    "random_seed = 0\n",
    "\n",
    "device = torch.device(\"cuda:0\" if torch.cuda.is_available() else \"cpu\")\n",
    "\n",
    "# Actor Network (w/ Target Network)\n",
    "actor_local = Actor(state_size, action_size, random_seed).to(device)\n",
    "actor_target = Actor(state_size, action_size, random_seed).to(device)\n",
    "\n",
    "# Critic Network (w/ Target Network)\n",
    "critic_local = Critic(state_size+action_size, 1, random_seed).to(device)\n",
    "critic_target = Critic(state_size+action_size, 1, random_seed).to(device)\n",
    "\n",
    "# Noise process\n",
    "noise_process = OUNoise(action_size, random_seed)\n",
    "\n",
    "# Replay memory\n",
    "memory = ReplayBuffer(BUFFER_SIZE, BATCH_SIZE, random_seed, device)"
   ]
  },
  {
   "cell_type": "code",
   "execution_count": null,
   "metadata": {},
   "outputs": [],
   "source": [
    "from src.ddpg_agent import Agent\n",
    "from collections import deque\n",
    "\n",
    "max_episodes = 300\n",
    "max_timesteps = 1000\n",
    "\n",
    "model_dir = 'models'\n",
    "checkpoint_actor = 'checkpoint_actor.pth'\n",
    "checkpoint_critic = 'checkpoint_critic.pth'\n",
    "model_actor = 'model_actor.pt'\n",
    "model_critic = 'model_critic.pt'\n",
    "\n",
    "\n",
    "def ddpg(n_episodes=max_episodes, n_timesteps=max_timesteps):\n",
    "    \"\"\"Deep Deterministic Policy Gradient.\n",
    "\n",
    "    Args:\n",
    "        n_episodes (int): maximum number of training episodes\n",
    "        n_timesteps (int): maximum number of timesteps per episode\n",
    "    \"\"\"\n",
    "    mean_scores = []  # list containing average scores from each episode\n",
    "    mean_scores_window = deque(maxlen=100)  # last 100 average scores\n",
    "\n",
    "    agent = Agent(actor_local, actor_target, critic_local, critic_target, noise_process, memory)\n",
    "\n",
    "    for episode in range(1, n_episodes + 1):\n",
    "        env_info = env.reset(train_mode=True)[brain_name]\n",
    "        states = env_info.vector_observations\n",
    "        # initialize the mean score (averaged over each agent)\n",
    "        scores = np.zeros(num_agents)\n",
    "        mean_score = 0\n",
    "        for timestep in range(n_timesteps):\n",
    "            actions = agent.act(states)\n",
    "            actions = np.clip(actions, -1, 1)\n",
    "            # send all actions to the environment\n",
    "            env_info = env.step(actions)[brain_name]\n",
    "            # get next state (for each agent)\n",
    "            next_states = env_info.vector_observations\n",
    "            rewards = env_info.rewards\n",
    "            dones = env_info.local_done\n",
    "            for i in range(num_agents):\n",
    "                agent.step(states[i], actions[i], rewards[i], next_states[i], dones[i])\n",
    "            agent.learn()\n",
    "            states = next_states\n",
    "            scores += rewards\n",
    "            if timestep % 10 == 0:\n",
    "                mean_score = np.mean(scores)\n",
    "                std_score = np.std(scores)\n",
    "                print('\\rTimestep {}\\tMean Score: {:.2f}\\tStd Score: {:.2f}'.\n",
    "                      format(timestep, mean_score, std_score), end=\"\")\n",
    "            if np.any(dones):\n",
    "                break\n",
    "\n",
    "        mean_scores_window.append(mean_score)  # save most recent score\n",
    "        mean_scores.append(mean_score)  # save most recent score\n",
    "\n",
    "        if episode % 1 == 0:\n",
    "            print(\n",
    "                '\\nEpisode {}\\tAverage Score: {:.2f}'.format(episode, np.mean(mean_scores_window)))\n",
    "        if np.mean(mean_scores_window) >= 30.0:\n",
    "            print('\\nEnvironment solved in {:d} episodes!\\tAverage Score: {:.2f}'.format(\n",
    "                episode - 100, np.mean(mean_scores_window)))\n",
    "            agent.actor_local.save_checkpoint(model_dir + '/' + checkpoint_actor)\n",
    "            agent.actor_local.save_model(model_dir + '/' + model_actor)\n",
    "            agent.critic_local.save_checkpoint(model_dir + '/' + checkpoint_critic)\n",
    "            agent.critic_local.save_model(model_dir + '/' + model_critic)\n",
    "            break\n",
    "    return mean_scores\n",
    "\n",
    "\n",
    "avg_scores = ddpg()"
   ]
  },
  {
   "cell_type": "code",
   "execution_count": null,
   "metadata": {},
   "outputs": [],
   "source": [
    "import matplotlib.pyplot as plt\n",
    "\n",
    "# plot the scores\n",
    "fig = plt.figure()\n",
    "ax = fig.add_subplot(111)\n",
    "plt.plot(np.arange(len(avg_scores)), avg_scores)\n",
    "plt.ylabel('Average Score')\n",
    "plt.xlabel('Episode #')\n",
    "plt.title('DDPG Agent results: Average Scores vs. Episode #')\n",
    "plt.show()"
   ]
  },
  {
   "cell_type": "markdown",
   "metadata": {},
   "source": [
    "### 5. Let's watch our trained Agent"
   ]
  },
  {
   "cell_type": "code",
   "execution_count": null,
   "metadata": {},
   "outputs": [],
   "source": [
    "# load the weights from file\n",
    "from src.ddpg_agent import Agent\n",
    "from src.model import load_actor\n",
    "from src.model import load_critic\n",
    "\n",
    "agent = Agent(actor_local, actor_target, critic_local, critic_target, noise_process, memory)\n",
    "agent.actor_local = load_actor(model_dir + '/' + model_actor)\n",
    "agent.critic_local = load_critic(model_dir + '/' + model_critic)\n",
    "\n",
    "for i_episode in range(1):\n",
    "    env_info = env.reset(train_mode=False)[brain_name]\n",
    "    state = env_info.vector_observations\n",
    "    scores = 0\n",
    "    while True:\n",
    "        actions = agent.act(states)\n",
    "        actions = np.clip(actions, -1, 1)\n",
    "        env_info = env.step(actions)[brain_name]\n",
    "        next_states = env_info.vector_observations\n",
    "        rewards = env_info.rewards\n",
    "        dones = env_info.local_done\n",
    "        states = next_states\n",
    "        scores += np.mean(rewards)\n",
    "        if any(dones):\n",
    "            break\n",
    "    print(\"Episode: {}, Score: {}\".format(i_episode, scores))"
   ]
  },
  {
   "cell_type": "code",
   "execution_count": null,
   "metadata": {},
   "outputs": [],
   "source": [
    "env.close()"
   ]
  }
 ],
 "metadata": {
  "kernelspec": {
   "display_name": "Python 3",
   "language": "python",
   "name": "python3"
  },
  "language_info": {
   "codemirror_mode": {
    "name": "ipython",
    "version": 3
   },
   "file_extension": ".py",
   "mimetype": "text/x-python",
   "name": "python",
   "nbconvert_exporter": "python",
   "pygments_lexer": "ipython3",
   "version": "3.6.10"
  }
 },
 "nbformat": 4,
 "nbformat_minor": 2
}
